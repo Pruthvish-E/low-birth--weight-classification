{
 "cells": [
  {
   "cell_type": "code",
   "execution_count": 1,
   "metadata": {},
   "outputs": [],
   "source": [
    "import numpy as np\n",
    "import pandas as pd\n",
    "import matplotlib.pyplot as plt\n",
    "from sklearn.model_selection import train_test_split\n",
    "from sklearn import metrics \n",
    "\n",
    "%matplotlib inline\n",
    "data = pd.read_csv(\"./cleanedv1.csv\")\n",
    "df = data"
   ]
  },
  {
   "cell_type": "code",
   "execution_count": 2,
   "metadata": {},
   "outputs": [],
   "source": [
    "feature_cols = ['community', 'age', 'weight1', 'history','HB','IFA','BP1', 'res']\n",
    "X = data[feature_cols] \n",
    "y = data['reslt']\n",
    "from myKNN import *\n",
    "weights = [0.04443233234214417, -0.024847621647369884, 0.5449535222905776, -0.07885807598072059, 0.005079960190242526, 0.16241303661498857, -0.036131885629758505, 0.09105601219402526]\n",
    "base = min(weights)\n",
    "Range = max(weights) - base\n",
    "normalized = [(x-base)/Range for x in weights]\n",
    "weights = normalized\n"
   ]
  },
  {
   "cell_type": "code",
   "execution_count": 3,
   "metadata": {},
   "outputs": [],
   "source": [
    "from sklearn.model_selection import KFold\n",
    "kf = KFold(5, True)\n",
    "kf.get_n_splits(X)\n",
    "average_sk_knn = 0\n",
    "average_my_knn1 = 0\n",
    "average_my_knn2 = 0\n",
    "average_my_knn3 = 0\n",
    "average_my_knn_weighted = 0\n",
    "from sklearn.neighbors import KNeighborsClassifier\n",
    " \n",
    "for i in range(10):\n",
    "    for train_index, test_index in kf.split(X):\n",
    "        X_train, X_test = X.iloc[train_index], X.iloc[test_index]\n",
    "        y_train, y_test = y.iloc[train_index], y.iloc[test_index]\n",
    "        clf = KNeighborsClassifier(n_neighbors=7)\n",
    "        clf = clf.fit(X_train,y_train)\n",
    "        y_pred = clf.predict(X_test)\n",
    "        y_dt = y_pred\n",
    "        average_sk_knn+=metrics.accuracy_score(y_test, y_pred)\n",
    "        \n",
    "        \n",
    "        y_pred = myknn_eucledian(X_train,y_train,X_test,7)\n",
    "        #print(y_pred)\n",
    "        average_my_knn1+=metrics.accuracy_score(y_test, y_pred)\n",
    "        \n",
    "        y_pred = myknn_manhattan(X_train,y_train,X_test,7)\n",
    "        #print(y_pred)\n",
    "        average_my_knn2+=metrics.accuracy_score(y_test, y_pred)\n",
    "        \n",
    "        y_pred = myknn_minkowski(1,X_train,y_train,X_test,7)\n",
    "        #print(y_pred)\n",
    "        average_my_knn3+=metrics.accuracy_score(y_test, y_pred)\n",
    "        \n",
    "        y_pred = myknn_weighted(X_train,y_train,X_test,8,weights)\n",
    "        #print(y_pred)\n",
    "        average_my_knn_weighted+=metrics.accuracy_score(y_test, y_pred)\n",
    "        \n",
    "        \n",
    "        \n",
    "        \n",
    "        \n",
    "\n",
    "        \n"
   ]
  },
  {
   "cell_type": "code",
   "execution_count": 4,
   "metadata": {},
   "outputs": [
    {
     "name": "stdout",
     "output_type": "stream",
     "text": [
      "Average Accuracy SK KNN:-  0.8997619047619045\n",
      "Average Accuracy MY KNN euc:-  0.8760476190476189\n",
      "Average Accuracy MY KNN man:-  0.8760476190476189\n",
      "Average Accuracy MY KNN min:-  0.8760476190476189\n",
      "Average Accuracy MY KNN weighted:-  0.9106190476190476\n"
     ]
    }
   ],
   "source": [
    "print(\"Average Accuracy SK KNN:- \",average_sk_knn/50)\n",
    "print(\"Average Accuracy MY KNN euc:- \",average_my_knn1/50)\n",
    "print(\"Average Accuracy MY KNN man:- \",average_my_knn2/50)\n",
    "print(\"Average Accuracy MY KNN min:- \",average_my_knn3/50)\n",
    "\n",
    "print(\"Average Accuracy MY KNN weighted:- \",average_my_knn_weighted/50)\n"
   ]
  },
  {
   "cell_type": "code",
   "execution_count": 5,
   "metadata": {},
   "outputs": [
    {
     "name": "stdout",
     "output_type": "stream",
     "text": [
      "0.9047619047619048\n"
     ]
    }
   ],
   "source": [
    "#making a fair training set with ample number of rows with all labels\n",
    "import random\n",
    "X_train, X_test, y_train, y_test = train_test_split(X, y, test_size=0.2, random_state=random.randint(1,100))\n",
    "#print(y_train.value_counts().to_dict()[0])\n",
    "while(y_train.value_counts().to_dict()[0]<=20 or y_train.value_counts().to_dict()[1]<=20 ):\n",
    "        X_train, X_test, y_train, y_test = train_test_split(X, y, test_size=0.2, random_state=random.randint(1,100))\n",
    "\n",
    "\n",
    "y_pred = myknn_weighted(X_train,y_train,X_test,8,weights)\n",
    "#print(y_pred)\n",
    "print(metrics.accuracy_score(y_test, y_pred))"
   ]
  },
  {
   "cell_type": "code",
   "execution_count": null,
   "metadata": {},
   "outputs": [],
   "source": []
  }
 ],
 "metadata": {
  "kernelspec": {
   "display_name": "Python 3",
   "language": "python",
   "name": "python3"
  },
  "language_info": {
   "codemirror_mode": {
    "name": "ipython",
    "version": 3
   },
   "file_extension": ".py",
   "mimetype": "text/x-python",
   "name": "python",
   "nbconvert_exporter": "python",
   "pygments_lexer": "ipython3",
   "version": "3.7.3"
  }
 },
 "nbformat": 4,
 "nbformat_minor": 2
}
