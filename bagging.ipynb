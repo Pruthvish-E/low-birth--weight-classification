{
 "cells": [
  {
   "cell_type": "code",
   "execution_count": 1,
   "metadata": {},
   "outputs": [],
   "source": [
    "import numpy as np\n",
    "import pandas as pd\n",
    "import matplotlib.pyplot as plt\n",
    "from sklearn.model_selection import train_test_split\n",
    "from sklearn import metrics \n",
    "\n",
    "%matplotlib inline\n",
    "data = pd.read_csv(\"./cleanedv1.csv\")\n",
    "df = data"
   ]
  },
  {
   "cell_type": "code",
   "execution_count": 2,
   "metadata": {},
   "outputs": [],
   "source": [
    "feature_cols = ['community', 'age', 'weight1', 'history','HB','IFA','BP1', 'res']\n",
    "X = data[feature_cols] \n",
    "y = data['reslt']\n",
    "from myKNN import *\n",
    "weights = [0.04443233234214417, -0.024847621647369884, 0.5449535222905776, -0.07885807598072059, 0.005079960190242526, 0.16241303661498857, -0.036131885629758505, 0.09105601219402526]\n",
    "base = min(weights)\n",
    "Range = max(weights) - base\n",
    "normalized = [(x-base)/Range for x in weights]\n",
    "weights = normalized\n"
   ]
  },
  {
   "cell_type": "code",
   "execution_count": 23,
   "metadata": {},
   "outputs": [
    {
     "name": "stdout",
     "output_type": "stream",
     "text": [
      "Average Accuracy bagging:-  0.9109047619047622\n"
     ]
    }
   ],
   "source": [
    "from sklearn.model_selection import KFold\n",
    "kf = KFold(5, True)\n",
    "kf.get_n_splits(X)\n",
    "averaget = 0\n",
    "for i in range(10):\n",
    "    for train_index, test_index in kf.split(X):\n",
    "        X_train, X_test = X.iloc[train_index], X.iloc[test_index]\n",
    "        y_train, y_test = y.iloc[train_index], y.iloc[test_index]\n",
    "        \n",
    "        y_knn_weighted = myknn_weighted(X_train,y_train,X_test,8,weights)\n",
    "        #print(y_pred)\n",
    "        y_knn_weighted = y_knn_weighted.values.tolist()\n",
    "        \n",
    "        \n",
    "        y_knn_k6 = myknn_eucledian(X_train,y_train,X_test,6)\n",
    "        y_knn_k6 = y_knn_k6.values.tolist()\n",
    "        y_knn_k4 = myknn_manhattan(X_train,y_train,X_test,4)\n",
    "        y_knn_k4 = y_knn_k4.values.tolist()\n",
    "        \n",
    "        y_knn_k5 = myknn_weighted(X_train,y_train,X_test,5,weights)\n",
    "        y_knn_k5 = y_knn_k5.values.tolist()\n",
    "        #print(y_knn_weighted)\n",
    "        \n",
    "        \n",
    "        \n",
    "        \n",
    "        \n",
    "        \n",
    "        \n",
    "        y_last =[]\n",
    "        for w in range(len(y_knn_k6)):\n",
    "            if([y_knn_k6[w][0],y_knn_k4[w][0],y_knn_k5[w][0],y_knn_weighted[w][0],y_knn_weighted[w][0]].count(0) > [y_knn_weighted[w][0],y_knn_k6[w][0],y_knn_k4[w][0],y_knn_k5[w][0],y_knn_weighted[w][0]].count(1)):\n",
    "                y_last.append(0)\n",
    "            else:\n",
    "                y_last.append(1)\n",
    "        \n",
    "        #print(y_last)\n",
    "        averaget+=metrics.accuracy_score(y_test, y_last)\n",
    "        \n",
    "        \n",
    "\n",
    "        \n",
    "        \n",
    "print(\"Average Accuracy bagging:- \",averaget/50)"
   ]
  },
  {
   "cell_type": "code",
   "execution_count": null,
   "metadata": {},
   "outputs": [],
   "source": []
  }
 ],
 "metadata": {
  "kernelspec": {
   "display_name": "Python 3",
   "language": "python",
   "name": "python3"
  },
  "language_info": {
   "codemirror_mode": {
    "name": "ipython",
    "version": 3
   },
   "file_extension": ".py",
   "mimetype": "text/x-python",
   "name": "python",
   "nbconvert_exporter": "python",
   "pygments_lexer": "ipython3",
   "version": "3.7.3"
  }
 },
 "nbformat": 4,
 "nbformat_minor": 2
}
