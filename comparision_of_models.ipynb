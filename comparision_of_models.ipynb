{
 "cells": [
  {
   "cell_type": "code",
   "execution_count": 1,
   "metadata": {},
   "outputs": [],
   "source": [
    "import numpy as np\n",
    "import pandas as pd\n",
    "import matplotlib.pyplot as plt\n",
    "from sklearn.model_selection import train_test_split\n",
    "from sklearn import metrics\n",
    "from warnings import filterwarnings\n",
    "filterwarnings(\"ignore\")\n",
    "\n",
    "%matplotlib inline\n",
    "data = pd.read_csv(\"./cleaned.csv\")\n",
    "df = data"
   ]
  },
  {
   "cell_type": "code",
   "execution_count": 2,
   "metadata": {},
   "outputs": [],
   "source": [
    "feature_cols = ['community', 'age', 'weight1', 'history','HB','IFA','BP1', 'res']\n",
    "X = data[feature_cols] \n",
    "y = data['reslt']\n",
    "from myKNN import *\n",
    "weights = [0.04443233234214417, -0.024847621647369884, 0.5449535222905776, -0.07885807598072059, 0.005079960190242526, 0.16241303661498857, -0.036131885629758505, 0.09105601219402526]\n",
    "base = min(weights)\n",
    "Range = max(weights) - base\n",
    "normalized = [(x-base)/Range for x in weights]\n",
    "weights = normalized\n"
   ]
  },
  {
   "cell_type": "code",
   "execution_count": 3,
   "metadata": {},
   "outputs": [],
   "source": [
    "from sklearn.neural_network import MLPClassifier\n",
    "from sklearn.neighbors import KNeighborsClassifier\n",
    "from sklearn.svm import SVC\n",
    "from sklearn.gaussian_process import GaussianProcessClassifier\n",
    "from sklearn.gaussian_process.kernels import RBF\n",
    "from sklearn.tree import DecisionTreeClassifier\n",
    "from sklearn.ensemble import RandomForestClassifier, AdaBoostClassifier\n",
    "from sklearn.naive_bayes import GaussianNB\n",
    "from sklearn.model_selection import KFold\n",
    "kf = KFold(5, True)\n",
    "kf.get_n_splits(X)\n",
    "average_sk_knn = 0\n",
    "average_my_knn1 = 0\n",
    "average_my_knn2 = 0\n",
    "average_my_knn3 = 0\n",
    "average_my_knn_weighted = 0\n",
    "averageSVM = 0\n",
    "averageNB = 0\n",
    "averageDT = 0\n",
    "averageRF = 0\n",
    "averageNN = 0\n",
    "averageADA = 0\n",
    "averageNB = 0\n",
    "from sklearn.neighbors import KNeighborsClassifier\n",
    " \n",
    "for i in range(10):\n",
    "    for train_index, test_index in kf.split(X):\n",
    "        X_train, X_test = X.iloc[train_index], X.iloc[test_index]\n",
    "        y_train, y_test = y.iloc[train_index], y.iloc[test_index]\n",
    "        \n",
    "        \n",
    "        y_pred = myknn_eucledian(X_train,y_train,X_test,7)\n",
    "        #print(y_pred)\n",
    "        average_my_knn1+=metrics.accuracy_score(y_test, y_pred)\n",
    "        \n",
    "        y_pred = myknn_manhattan(X_train,y_train,X_test,7)\n",
    "        #print(y_pred)\n",
    "        average_my_knn2+=metrics.accuracy_score(y_test, y_pred)\n",
    "        \n",
    "        y_pred = myknn_minkowski(1,X_train,y_train,X_test,7)\n",
    "        #print(y_pred)\n",
    "        average_my_knn3+=metrics.accuracy_score(y_test, y_pred)\n",
    "        \n",
    "        y_pred = myknn_weighted(X_train,y_train,X_test,8,weights)\n",
    "        #print(y_pred)\n",
    "        average_my_knn_weighted+=metrics.accuracy_score(y_test, y_pred)\n",
    "        \n",
    "        \n",
    "        #Sklearn modules for comparision of results\n",
    "        clf = KNeighborsClassifier(n_neighbors=7)\n",
    "        clf = clf.fit(X_train,y_train)\n",
    "        y_pred = clf.predict(X_test)\n",
    "        y_dt = y_pred\n",
    "        average_sk_knn+=metrics.accuracy_score(y_test, y_pred)\n",
    "        \n",
    "        svclassifier = SVC(kernel='linear')\n",
    "        svclassifier.fit(X_train, y_train)\n",
    "\n",
    "        y_pred = svclassifier.predict(X_test)\n",
    "        y_svm = y_pred\n",
    "        averageSVM+=metrics.accuracy_score(y_test, y_pred)\n",
    "        \n",
    "        clf = DecisionTreeClassifier(max_depth=2)\n",
    "        clf.fit(X_train, y_train)\n",
    "\n",
    "        y_pred = clf.predict(X_test)\n",
    "        y_svm = y_pred\n",
    "        averageDT+=metrics.accuracy_score(y_test, y_pred)\n",
    "        \n",
    "        clf = RandomForestClassifier(max_depth=5, n_estimators=10, max_features=1)\n",
    "        clf.fit(X_train, y_train)\n",
    "\n",
    "        y_pred = clf.predict(X_test)\n",
    "        y_svm = y_pred\n",
    "        averageRF+=metrics.accuracy_score(y_test, y_pred)\n",
    "        \n",
    "        clf = MLPClassifier(hidden_layer_sizes=(10, 10, 10), max_iter=2000)\n",
    "        clf.fit(X_train, y_train)\n",
    "\n",
    "        y_pred = clf.predict(X_test)\n",
    "        y_svm = y_pred\n",
    "        averageNN+=metrics.accuracy_score(y_test, y_pred)\n",
    "        \n",
    "        clf =  AdaBoostClassifier()\n",
    "        clf.fit(X_train, y_train)\n",
    "\n",
    "        y_pred = clf.predict(X_test)\n",
    "        y_svm = y_pred\n",
    "        averageADA+=metrics.accuracy_score(y_test, y_pred)\n",
    "       \n",
    "        clf =   GaussianNB()\n",
    "        clf.fit(X_train, y_train)\n",
    "\n",
    "        y_pred = clf.predict(X_test)\n",
    "        y_svm = y_pred\n",
    "        averageNB+=metrics.accuracy_score(y_test, y_pred)\n",
    "       \n",
    "        \n",
    "        \n",
    "\n",
    "        \n"
   ]
  },
  {
   "cell_type": "code",
   "execution_count": 4,
   "metadata": {},
   "outputs": [
    {
     "name": "stdout",
     "output_type": "stream",
     "text": [
      "Average Accuracy SK KNN:-  0.9009523809523812\n",
      "Average Accuracy MY KNN euc:-  0.878\n",
      "Average Accuracy MY KNN man:-  0.878\n",
      "Average Accuracy MY KNN min:-  0.878\n",
      "Average Accuracy MY KNN weighted:-  0.910857142857143\n",
      "Average Accuracy SVM:-  0.8968571428571428\n",
      "Average Accuracy NB:-  0.7206666666666663\n",
      "Average Accuracy DT:-  0.8830476190476191\n",
      "Average Accuracy RF:-  0.8385238095238097\n",
      "Average Accuracy NN:-  0.7905714285714288\n",
      "Average Accuracy ADA:-  0.8185238095238095\n",
      "Average Accuracy NB:-  0.7206666666666663\n"
     ]
    }
   ],
   "source": [
    "print(\"Average Accuracy SK KNN:- \",average_sk_knn/50)\n",
    "print(\"Average Accuracy MY KNN euc:- \",average_my_knn1/50)\n",
    "print(\"Average Accuracy MY KNN man:- \",average_my_knn2/50)\n",
    "print(\"Average Accuracy MY KNN min:- \",average_my_knn3/50)\n",
    "print(\"Average Accuracy MY KNN weighted:- \",average_my_knn_weighted/50)\n",
    "print(\"Average Accuracy SVM:- \",averageSVM/50)\n",
    "print(\"Average Accuracy NB:- \",averageNB/50)\n",
    "print(\"Average Accuracy DT:- \",averageDT/50)\n",
    "print(\"Average Accuracy RF:- \",averageRF/50)\n",
    "print(\"Average Accuracy NN:- \",averageNN/50)\n",
    "print(\"Average Accuracy ADA:- \",averageADA/50)\n",
    "print(\"Average Accuracy NB:- \",averageNB/50)\n",
    "\n"
   ]
  },
  {
   "cell_type": "code",
   "execution_count": 11,
   "metadata": {},
   "outputs": [
    {
     "data": {
      "text/plain": [
       "Text(0.5, 1.0, 'Algorithm')"
      ]
     },
     "execution_count": 11,
     "metadata": {},
     "output_type": "execute_result"
    },
    {
     "data": {
      "image/png": "[encoded data removed]",
      "text/plain": [
       "<Figure size 432x288 with 1 Axes>"
      ]
     },
     "metadata": {
      "needs_background": "light"
     },
     "output_type": "display_data"
    }
   ],
   "source": [
    "objects = ('SK KNN', 'MY KNN euc', 'MY KNN man', 'MY KNN min', 'MY KNN weighted', 'SVM', 'NB', 'DT', 'RF', 'NN', 'ADA')\n",
    "y_pos = np.arange(len(objects))\n",
    "performance = [average_sk_knn/50 , average_my_knn1/50, average_my_knn2/50, average_my_knn3/50, average_my_knn_weighted/50, averageSVM/50, averageNB/50, averageDT/50, averageRF/50, averageNN/50, averageADA/50]\n",
    "\n",
    "plt.barh(y_pos, performance, align='center', alpha=0.5)\n",
    "plt.yticks(y_pos, objects)\n",
    "plt.xlabel('Average Accuracy')\n",
    "plt.title('Algorithm')"
   ]
  },
  {
   "cell_type": "code",
   "execution_count": null,
   "metadata": {},
   "outputs": [],
   "source": []
  }
 ],
 "metadata": {
  "kernelspec": {
   "display_name": "Python 3",
   "language": "python",
   "name": "python3"
  },
  "language_info": {
   "codemirror_mode": {
    "name": "ipython",
    "version": 3
   },
   "file_extension": ".py",
   "mimetype": "text/x-python",
   "name": "python",
   "nbconvert_exporter": "python",
   "pygments_lexer": "ipython3",
   "version": "3.7.3"
  }
 },
 "nbformat": 4,
 "nbformat_minor": 2
}
